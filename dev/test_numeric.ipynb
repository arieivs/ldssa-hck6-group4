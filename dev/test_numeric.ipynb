{
 "cells": [
  {
   "cell_type": "code",
   "execution_count": 30,
   "id": "a66b2518-18b4-4aad-8ec6-807ada9b669c",
   "metadata": {},
   "outputs": [],
   "source": [
    "import os\n",
    "import pandas as pd\n",
    "import re"
   ]
  },
  {
   "cell_type": "code",
   "execution_count": 3,
   "id": "24c72fe7-f6eb-43e5-ab20-d8535ffedc41",
   "metadata": {},
   "outputs": [],
   "source": [
    "df = pd.read_csv(os.path.join('..', 'data', 'train.csv'))"
   ]
  },
  {
   "cell_type": "code",
   "execution_count": 4,
   "id": "f852b2bf-1ea7-4edd-b2df-0b16ca9b9877",
   "metadata": {},
   "outputs": [
    {
     "data": {
      "text/html": [
       "<div>\n",
       "<style scoped>\n",
       "    .dataframe tbody tr th:only-of-type {\n",
       "        vertical-align: middle;\n",
       "    }\n",
       "\n",
       "    .dataframe tbody tr th {\n",
       "        vertical-align: top;\n",
       "    }\n",
       "\n",
       "    .dataframe thead th {\n",
       "        text-align: right;\n",
       "    }\n",
       "</style>\n",
       "<table border=\"1\" class=\"dataframe\">\n",
       "  <thead>\n",
       "    <tr style=\"text-align: right;\">\n",
       "      <th></th>\n",
       "      <th>observation_id</th>\n",
       "      <th>Health Service Area</th>\n",
       "      <th>Hospital County</th>\n",
       "      <th>Operating Certificate Number</th>\n",
       "      <th>Facility Id</th>\n",
       "      <th>Facility Name</th>\n",
       "      <th>Age Group</th>\n",
       "      <th>Zip Code - 3 digits</th>\n",
       "      <th>Gender</th>\n",
       "      <th>Race</th>\n",
       "      <th>...</th>\n",
       "      <th>Payment Typology 2</th>\n",
       "      <th>Payment Typology 3</th>\n",
       "      <th>Attending Provider License Number</th>\n",
       "      <th>Operating Provider License Number</th>\n",
       "      <th>Other Provider License Number</th>\n",
       "      <th>Birth Weight</th>\n",
       "      <th>Abortion Edit Indicator</th>\n",
       "      <th>Emergency Department Indicator</th>\n",
       "      <th>Total Charges</th>\n",
       "      <th>Total Costs</th>\n",
       "    </tr>\n",
       "  </thead>\n",
       "  <tbody>\n",
       "    <tr>\n",
       "      <th>0</th>\n",
       "      <td>cdb7f86a-68c8-4a11-a54a-d6ab74fdb7fe</td>\n",
       "      <td>Western NY</td>\n",
       "      <td>Erie</td>\n",
       "      <td>1401014.0</td>\n",
       "      <td>208.0</td>\n",
       "      <td>Women And Children's Hospital Of Buffalo</td>\n",
       "      <td>0 to 17</td>\n",
       "      <td>143</td>\n",
       "      <td>F</td>\n",
       "      <td>White</td>\n",
       "      <td>...</td>\n",
       "      <td>Self-Pay</td>\n",
       "      <td>NaN</td>\n",
       "      <td>270457.0</td>\n",
       "      <td>NaN</td>\n",
       "      <td>NaN</td>\n",
       "      <td>0</td>\n",
       "      <td>N</td>\n",
       "      <td>Y</td>\n",
       "      <td>$4623.66</td>\n",
       "      <td>$2633.42</td>\n",
       "    </tr>\n",
       "    <tr>\n",
       "      <th>1</th>\n",
       "      <td>78b71d32-2c27-4781-89b3-6bc0ed48b22a</td>\n",
       "      <td>Western NY</td>\n",
       "      <td>Erie</td>\n",
       "      <td>1401014.0</td>\n",
       "      <td>208.0</td>\n",
       "      <td>Women And Children's Hospital Of Buffalo</td>\n",
       "      <td>0 to 17</td>\n",
       "      <td>141</td>\n",
       "      <td>M</td>\n",
       "      <td>White</td>\n",
       "      <td>...</td>\n",
       "      <td>Self-Pay</td>\n",
       "      <td>NaN</td>\n",
       "      <td>244296.0</td>\n",
       "      <td>NaN</td>\n",
       "      <td>NaN</td>\n",
       "      <td>0</td>\n",
       "      <td>N</td>\n",
       "      <td>Y</td>\n",
       "      <td>$2238.33</td>\n",
       "      <td>$993.57</td>\n",
       "    </tr>\n",
       "    <tr>\n",
       "      <th>2</th>\n",
       "      <td>bde8094e-d9bd-48f9-ba8e-7b318a0c0b76</td>\n",
       "      <td>Western NY</td>\n",
       "      <td>Erie</td>\n",
       "      <td>1401005.0</td>\n",
       "      <td>210.0</td>\n",
       "      <td>Erie County Medical Center</td>\n",
       "      <td>0 to 17</td>\n",
       "      <td>142</td>\n",
       "      <td>F</td>\n",
       "      <td>Other Race</td>\n",
       "      <td>...</td>\n",
       "      <td>Medicaid</td>\n",
       "      <td>NaN</td>\n",
       "      <td>239618.0</td>\n",
       "      <td>NaN</td>\n",
       "      <td>NaN</td>\n",
       "      <td>0</td>\n",
       "      <td>N</td>\n",
       "      <td>Y</td>\n",
       "      <td>$13947.78</td>\n",
       "      <td>$7199.01</td>\n",
       "    </tr>\n",
       "    <tr>\n",
       "      <th>3</th>\n",
       "      <td>b68bee74-48e7-4382-ba99-a3795e52380e</td>\n",
       "      <td>Western NY</td>\n",
       "      <td>Erie</td>\n",
       "      <td>1401008.0</td>\n",
       "      <td>213.0</td>\n",
       "      <td>Mercy Hospital of Buffalo</td>\n",
       "      <td>18 to 29</td>\n",
       "      <td>142</td>\n",
       "      <td>F</td>\n",
       "      <td>White</td>\n",
       "      <td>...</td>\n",
       "      <td>NaN</td>\n",
       "      <td>NaN</td>\n",
       "      <td>210044.0</td>\n",
       "      <td>NaN</td>\n",
       "      <td>NaN</td>\n",
       "      <td>0</td>\n",
       "      <td>N</td>\n",
       "      <td>Y</td>\n",
       "      <td>$7700.16</td>\n",
       "      <td>$3875.62</td>\n",
       "    </tr>\n",
       "    <tr>\n",
       "      <th>4</th>\n",
       "      <td>c532d911-85ac-4689-945c-35e0b8dbff6a</td>\n",
       "      <td>Western NY</td>\n",
       "      <td>Erie</td>\n",
       "      <td>1401008.0</td>\n",
       "      <td>213.0</td>\n",
       "      <td>Mercy Hospital of Buffalo</td>\n",
       "      <td>18 to 29</td>\n",
       "      <td>142</td>\n",
       "      <td>F</td>\n",
       "      <td>Other Race</td>\n",
       "      <td>...</td>\n",
       "      <td>Medicaid</td>\n",
       "      <td>NaN</td>\n",
       "      <td>229449.0</td>\n",
       "      <td>191190.0</td>\n",
       "      <td>NaN</td>\n",
       "      <td>0</td>\n",
       "      <td>N</td>\n",
       "      <td>N</td>\n",
       "      <td>$8814.77</td>\n",
       "      <td>$5210.92</td>\n",
       "    </tr>\n",
       "  </tbody>\n",
       "</table>\n",
       "<p>5 rows × 38 columns</p>\n",
       "</div>"
      ],
      "text/plain": [
       "                         observation_id Health Service Area Hospital County  \\\n",
       "0  cdb7f86a-68c8-4a11-a54a-d6ab74fdb7fe          Western NY            Erie   \n",
       "1  78b71d32-2c27-4781-89b3-6bc0ed48b22a          Western NY            Erie   \n",
       "2  bde8094e-d9bd-48f9-ba8e-7b318a0c0b76          Western NY            Erie   \n",
       "3  b68bee74-48e7-4382-ba99-a3795e52380e          Western NY            Erie   \n",
       "4  c532d911-85ac-4689-945c-35e0b8dbff6a          Western NY            Erie   \n",
       "\n",
       "   Operating Certificate Number  Facility Id  \\\n",
       "0                     1401014.0        208.0   \n",
       "1                     1401014.0        208.0   \n",
       "2                     1401005.0        210.0   \n",
       "3                     1401008.0        213.0   \n",
       "4                     1401008.0        213.0   \n",
       "\n",
       "                              Facility Name Age Group Zip Code - 3 digits  \\\n",
       "0  Women And Children's Hospital Of Buffalo   0 to 17                 143   \n",
       "1  Women And Children's Hospital Of Buffalo   0 to 17                 141   \n",
       "2                Erie County Medical Center   0 to 17                 142   \n",
       "3                 Mercy Hospital of Buffalo  18 to 29                 142   \n",
       "4                 Mercy Hospital of Buffalo  18 to 29                 142   \n",
       "\n",
       "  Gender        Race  ... Payment Typology 2  Payment Typology 3  \\\n",
       "0      F       White  ...           Self-Pay                 NaN   \n",
       "1      M       White  ...           Self-Pay                 NaN   \n",
       "2      F  Other Race  ...           Medicaid                 NaN   \n",
       "3      F       White  ...                NaN                 NaN   \n",
       "4      F  Other Race  ...           Medicaid                 NaN   \n",
       "\n",
       "  Attending Provider License Number Operating Provider License Number  \\\n",
       "0                          270457.0                               NaN   \n",
       "1                          244296.0                               NaN   \n",
       "2                          239618.0                               NaN   \n",
       "3                          210044.0                               NaN   \n",
       "4                          229449.0                          191190.0   \n",
       "\n",
       "   Other Provider License Number  Birth Weight Abortion Edit Indicator  \\\n",
       "0                            NaN             0                       N   \n",
       "1                            NaN             0                       N   \n",
       "2                            NaN             0                       N   \n",
       "3                            NaN             0                       N   \n",
       "4                            NaN             0                       N   \n",
       "\n",
       "   Emergency Department Indicator Total Charges  Total Costs  \n",
       "0                               Y      $4623.66     $2633.42  \n",
       "1                               Y      $2238.33      $993.57  \n",
       "2                               Y     $13947.78     $7199.01  \n",
       "3                               Y      $7700.16     $3875.62  \n",
       "4                               N      $8814.77     $5210.92  \n",
       "\n",
       "[5 rows x 38 columns]"
      ]
     },
     "execution_count": 4,
     "metadata": {},
     "output_type": "execute_result"
    }
   ],
   "source": [
    "df.head()"
   ]
  },
  {
   "cell_type": "code",
   "execution_count": 5,
   "id": "81af2e71-694c-405e-b20d-988c565b4574",
   "metadata": {},
   "outputs": [],
   "source": [
    "numerical_features = [\n",
    "    \"Operating Certificate Number\",\n",
    "    \"Facility Id\",\n",
    "    \"Zip Code - 3 digits\",\n",
    "    \"CCS Diagnosis Code\",\n",
    "    \"CCS Procedure Code\",\n",
    "    \"APR DRG Code\",\n",
    "    \"APR MDC Code\",\n",
    "    \"APR Severity of Illness Code\",\n",
    "    \"Attending Provider License Number\",\n",
    "    \"Operating Provider License Number\",\n",
    "    \"Other Provider License Number\",\n",
    "    \"Birth Weight\"\n",
    "]"
   ]
  },
  {
   "cell_type": "code",
   "execution_count": 6,
   "id": "2bd93fb6-769f-41a3-b950-aa05e9b350e6",
   "metadata": {},
   "outputs": [],
   "source": [
    "df_num = df[numerical_features]"
   ]
  },
  {
   "cell_type": "code",
   "execution_count": 7,
   "id": "2499578c-f659-445a-ab95-25546412dcc6",
   "metadata": {},
   "outputs": [
    {
     "data": {
      "text/html": [
       "<div>\n",
       "<style scoped>\n",
       "    .dataframe tbody tr th:only-of-type {\n",
       "        vertical-align: middle;\n",
       "    }\n",
       "\n",
       "    .dataframe tbody tr th {\n",
       "        vertical-align: top;\n",
       "    }\n",
       "\n",
       "    .dataframe thead th {\n",
       "        text-align: right;\n",
       "    }\n",
       "</style>\n",
       "<table border=\"1\" class=\"dataframe\">\n",
       "  <thead>\n",
       "    <tr style=\"text-align: right;\">\n",
       "      <th></th>\n",
       "      <th>Operating Certificate Number</th>\n",
       "      <th>Facility Id</th>\n",
       "      <th>Zip Code - 3 digits</th>\n",
       "      <th>CCS Diagnosis Code</th>\n",
       "      <th>CCS Procedure Code</th>\n",
       "      <th>APR DRG Code</th>\n",
       "      <th>APR MDC Code</th>\n",
       "      <th>APR Severity of Illness Code</th>\n",
       "      <th>Attending Provider License Number</th>\n",
       "      <th>Operating Provider License Number</th>\n",
       "      <th>Other Provider License Number</th>\n",
       "      <th>Birth Weight</th>\n",
       "    </tr>\n",
       "  </thead>\n",
       "  <tbody>\n",
       "    <tr>\n",
       "      <th>0</th>\n",
       "      <td>1401014.0</td>\n",
       "      <td>208.0</td>\n",
       "      <td>143</td>\n",
       "      <td>128</td>\n",
       "      <td>0</td>\n",
       "      <td>141</td>\n",
       "      <td>4</td>\n",
       "      <td>2</td>\n",
       "      <td>270457.0</td>\n",
       "      <td>NaN</td>\n",
       "      <td>NaN</td>\n",
       "      <td>0</td>\n",
       "    </tr>\n",
       "    <tr>\n",
       "      <th>1</th>\n",
       "      <td>1401014.0</td>\n",
       "      <td>208.0</td>\n",
       "      <td>141</td>\n",
       "      <td>138</td>\n",
       "      <td>0</td>\n",
       "      <td>243</td>\n",
       "      <td>6</td>\n",
       "      <td>1</td>\n",
       "      <td>244296.0</td>\n",
       "      <td>NaN</td>\n",
       "      <td>NaN</td>\n",
       "      <td>0</td>\n",
       "    </tr>\n",
       "    <tr>\n",
       "      <th>2</th>\n",
       "      <td>1401005.0</td>\n",
       "      <td>210.0</td>\n",
       "      <td>142</td>\n",
       "      <td>657</td>\n",
       "      <td>0</td>\n",
       "      <td>754</td>\n",
       "      <td>19</td>\n",
       "      <td>2</td>\n",
       "      <td>239618.0</td>\n",
       "      <td>NaN</td>\n",
       "      <td>NaN</td>\n",
       "      <td>0</td>\n",
       "    </tr>\n",
       "    <tr>\n",
       "      <th>3</th>\n",
       "      <td>1401008.0</td>\n",
       "      <td>213.0</td>\n",
       "      <td>142</td>\n",
       "      <td>83</td>\n",
       "      <td>0</td>\n",
       "      <td>53</td>\n",
       "      <td>1</td>\n",
       "      <td>2</td>\n",
       "      <td>210044.0</td>\n",
       "      <td>NaN</td>\n",
       "      <td>NaN</td>\n",
       "      <td>0</td>\n",
       "    </tr>\n",
       "    <tr>\n",
       "      <th>4</th>\n",
       "      <td>1401008.0</td>\n",
       "      <td>213.0</td>\n",
       "      <td>142</td>\n",
       "      <td>189</td>\n",
       "      <td>134</td>\n",
       "      <td>540</td>\n",
       "      <td>14</td>\n",
       "      <td>1</td>\n",
       "      <td>229449.0</td>\n",
       "      <td>191190.0</td>\n",
       "      <td>NaN</td>\n",
       "      <td>0</td>\n",
       "    </tr>\n",
       "  </tbody>\n",
       "</table>\n",
       "</div>"
      ],
      "text/plain": [
       "   Operating Certificate Number  Facility Id Zip Code - 3 digits  \\\n",
       "0                     1401014.0        208.0                 143   \n",
       "1                     1401014.0        208.0                 141   \n",
       "2                     1401005.0        210.0                 142   \n",
       "3                     1401008.0        213.0                 142   \n",
       "4                     1401008.0        213.0                 142   \n",
       "\n",
       "   CCS Diagnosis Code  CCS Procedure Code  APR DRG Code  APR MDC Code  \\\n",
       "0                 128                   0           141             4   \n",
       "1                 138                   0           243             6   \n",
       "2                 657                   0           754            19   \n",
       "3                  83                   0            53             1   \n",
       "4                 189                 134           540            14   \n",
       "\n",
       "   APR Severity of Illness Code  Attending Provider License Number  \\\n",
       "0                             2                           270457.0   \n",
       "1                             1                           244296.0   \n",
       "2                             2                           239618.0   \n",
       "3                             2                           210044.0   \n",
       "4                             1                           229449.0   \n",
       "\n",
       "   Operating Provider License Number  Other Provider License Number  \\\n",
       "0                                NaN                            NaN   \n",
       "1                                NaN                            NaN   \n",
       "2                                NaN                            NaN   \n",
       "3                                NaN                            NaN   \n",
       "4                           191190.0                            NaN   \n",
       "\n",
       "   Birth Weight  \n",
       "0             0  \n",
       "1             0  \n",
       "2             0  \n",
       "3             0  \n",
       "4             0  "
      ]
     },
     "execution_count": 7,
     "metadata": {},
     "output_type": "execute_result"
    }
   ],
   "source": [
    "df_num.head()"
   ]
  },
  {
   "cell_type": "code",
   "execution_count": 10,
   "id": "d331cc1f-38c3-47ea-996f-80a5a8c819e2",
   "metadata": {},
   "outputs": [
    {
     "data": {
      "text/plain": [
       "np.float64(101000.0)"
      ]
     },
     "execution_count": 10,
     "metadata": {},
     "output_type": "execute_result"
    }
   ],
   "source": [
    "df_num['Operating Certificate Number'].min()"
   ]
  },
  {
   "cell_type": "code",
   "execution_count": 11,
   "id": "948800bb-192a-465e-9b38-cb5a9ba0fc3e",
   "metadata": {},
   "outputs": [
    {
     "data": {
      "text/plain": [
       "np.float64(7004010.0)"
      ]
     },
     "execution_count": 11,
     "metadata": {},
     "output_type": "execute_result"
    }
   ],
   "source": [
    "df_num['Operating Certificate Number'].max()"
   ]
  },
  {
   "cell_type": "code",
   "execution_count": 12,
   "id": "dedc1c1a-a83d-4553-b077-de79e15852ba",
   "metadata": {},
   "outputs": [
    {
     "data": {
      "text/plain": [
       "np.float64(1.0)"
      ]
     },
     "execution_count": 12,
     "metadata": {},
     "output_type": "execute_result"
    }
   ],
   "source": [
    "df_num['Facility Id'].min()"
   ]
  },
  {
   "cell_type": "code",
   "execution_count": 13,
   "id": "a5adba5c-0938-49cf-b10e-61a259163e77",
   "metadata": {},
   "outputs": [
    {
     "data": {
      "text/plain": [
       "np.float64(9431.0)"
      ]
     },
     "execution_count": 13,
     "metadata": {},
     "output_type": "execute_result"
    }
   ],
   "source": [
    "df_num['Facility Id'].max()"
   ]
  },
  {
   "cell_type": "code",
   "execution_count": 22,
   "id": "1506abc3-38c1-4995-9ce4-2518c433f862",
   "metadata": {},
   "outputs": [
    {
     "data": {
      "text/plain": [
       "Operating Certificate Number         float64\n",
       "Facility Id                          float64\n",
       "Zip Code - 3 digits                   object\n",
       "CCS Diagnosis Code                     int64\n",
       "CCS Procedure Code                     int64\n",
       "APR DRG Code                           int64\n",
       "APR MDC Code                           int64\n",
       "APR Severity of Illness Code           int64\n",
       "Attending Provider License Number    float64\n",
       "Operating Provider License Number    float64\n",
       "Other Provider License Number        float64\n",
       "Birth Weight                           int64\n",
       "dtype: object"
      ]
     },
     "execution_count": 22,
     "metadata": {},
     "output_type": "execute_result"
    }
   ],
   "source": [
    "df_num.dtypes"
   ]
  },
  {
   "cell_type": "code",
   "execution_count": 26,
   "id": "0030c1e2-1017-4c62-bd8a-809c053adf37",
   "metadata": {},
   "outputs": [
    {
     "data": {
      "text/plain": [
       "array(['143', '141', '142', '140', '148', '145', '146', '144', '138',\n",
       "       '131', '130', '133', '136', '134', '135', '132', '122', '120',\n",
       "       '129', '121', '123', '128', '125', '126', '109', '127', nan, '105',\n",
       "       '107', '104', '111', '112', '103', '100', '114', '110', 'OOS',\n",
       "       '113', '117', '115', '116', '119', '147', '137', '149', '139',\n",
       "       '124', '106', '108', '101', '118'], dtype=object)"
      ]
     },
     "execution_count": 26,
     "metadata": {},
     "output_type": "execute_result"
    }
   ],
   "source": [
    "df_num['Zip Code - 3 digits'].unique()"
   ]
  },
  {
   "cell_type": "code",
   "execution_count": 27,
   "id": "6d0f26d9-11d3-4fcc-a768-5718d8bbe697",
   "metadata": {},
   "outputs": [],
   "source": [
    "zip_code_regex = r\"\\b(\\d{3}|OOS)\\b\""
   ]
  },
  {
   "cell_type": "code",
   "execution_count": 29,
   "id": "3dd7c530-7eb4-445d-b7f4-1a6dfc2d04b4",
   "metadata": {},
   "outputs": [
    {
     "data": {
      "text/plain": [
       "Operating Certificate Number            183\n",
       "Facility Id                             183\n",
       "Zip Code - 3 digits                     276\n",
       "CCS Diagnosis Code                        0\n",
       "CCS Procedure Code                        0\n",
       "APR DRG Code                              0\n",
       "APR MDC Code                              0\n",
       "APR Severity of Illness Code              0\n",
       "Attending Provider License Number       183\n",
       "Operating Provider License Number     36704\n",
       "Other Provider License Number        136517\n",
       "Birth Weight                              0\n",
       "dtype: int64"
      ]
     },
     "execution_count": 29,
     "metadata": {},
     "output_type": "execute_result"
    }
   ],
   "source": [
    "df_num.isnull().sum()"
   ]
  },
  {
   "cell_type": "code",
   "execution_count": 38,
   "id": "2ecc6da5-81f4-49c4-8ab0-63d52d6e0fb5",
   "metadata": {},
   "outputs": [
    {
     "name": "stdout",
     "output_type": "stream",
     "text": [
      "not ok\n"
     ]
    }
   ],
   "source": [
    "if not re.match(zip_code_regex, \"OOST\"):\n",
    "    print(\"not ok\")"
   ]
  }
 ],
 "metadata": {
  "kernelspec": {
   "display_name": "Python 3 (ipykernel)",
   "language": "python",
   "name": "python3"
  },
  "language_info": {
   "codemirror_mode": {
    "name": "ipython",
    "version": 3
   },
   "file_extension": ".py",
   "mimetype": "text/x-python",
   "name": "python",
   "nbconvert_exporter": "python",
   "pygments_lexer": "ipython3",
   "version": "3.10.14"
  }
 },
 "nbformat": 4,
 "nbformat_minor": 5
}
