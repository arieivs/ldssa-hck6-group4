{
 "cells": [
  {
   "cell_type": "code",
   "execution_count": 3,
   "id": "9b31eece-5635-43a7-86a7-a90a04862a52",
   "metadata": {},
   "outputs": [],
   "source": [
    "import requests\n",
    "from uuid import uuid4\n",
    "import json"
   ]
  },
  {
   "cell_type": "markdown",
   "id": "ca2c3ba1-d51e-4415-b81b-22ec5a13b9f7",
   "metadata": {},
   "source": [
    "# 1. Test locally"
   ]
  },
  {
   "cell_type": "markdown",
   "id": "6e5d53fb-757e-4cf3-b215-bdc4a3e9e022",
   "metadata": {},
   "source": [
    "## 1.2 Predict Endpoint"
   ]
  },
  {
   "cell_type": "code",
   "execution_count": 56,
   "id": "ba8200bb-b5d0-499c-8202-3be5d8084491",
   "metadata": {},
   "outputs": [],
   "source": [
    "url = \"http://localhost:5000/predict\""
   ]
  },
  {
   "cell_type": "code",
   "execution_count": 4,
   "id": "75f9c40b-f60b-4db6-a88e-067a02c0e42c",
   "metadata": {},
   "outputs": [],
   "source": [
    "good_payload = {\"observation_id\": str(uuid4()),\n",
    "                \"Health Service Area\": \"Western NY\", \n",
    "                \"Hospital County\": \"Erie\",\n",
    "                \"Operating Certificate Number\": \"1401014.0\",\n",
    "                \"Facility Id\": \"207.0\",\n",
    "                \"Facility Name\": \"Buffalo General Hospital\",\n",
    "                \"Age Group\": \"30 to 49\",\n",
    "                \"Zip Code - 3 digits\": \"147\",\n",
    "                \"Gender\": \"F\",\n",
    "                \"Race\": \"White\",\n",
    "                \"Ethnicity\": \"Not Span/Hispanic\",\n",
    "                \"Type of Admission\": \"Emergency\",\n",
    "                \"CCS Diagnosis Code\": \"157\",\n",
    "                \"CCS Diagnosis Description\": \"Acute and unspecified renal failure\",\n",
    "                \"CCS Procedure Code\": \"0\",\n",
    "                \"CCS Procedure Description\": \"NO PROC\",\n",
    "                \"APR DRG Code\": \"460\",\n",
    "                \"APR DRG Description\": \"RENAL FAILURE\",\n",
    "                \"APR MDC Code\": \"11\",\n",
    "                \"APR MDC Description\": \"Diseases and Disorders of the Kidney and Urinary Tract\",\n",
    "                \"APR Severity of Illness Code\": \"3\",\n",
    "                \"APR Severity of Illness Description\": \"Major\",\n",
    "                \"APR Risk of Mortality\": \"Major\",\n",
    "                \"APR Medical Surgical Description\": \"Medical\",\n",
    "                \"Payment Typology 1\": \"Medicaid\",\n",
    "                \"Payment Typology 2\": \"Self-Pay\",\n",
    "                \"Payment Typology 3\": \"nan\",\n",
    "                \"Attending Provider License Number\": \"237483.0\",\n",
    "                \"Operating Provider License Number\": \"nan\",\n",
    "                \"Other Provider License Number\": \"nan\",\n",
    "                \"Birth Weight\": \"0\",\n",
    "                \"Abortion Edit Indicator\": \"N\",\n",
    "                \"Emergency Department Indicator\": \"Y\"}"
   ]
  },
  {
   "cell_type": "code",
   "execution_count": 63,
   "id": "f449177f-7fae-43e5-8740-4a28e2d8ff50",
   "metadata": {},
   "outputs": [],
   "source": [
    "r = requests.post(url, json=good_payload)"
   ]
  },
  {
   "cell_type": "code",
   "execution_count": 64,
   "id": "95f22d31-99f5-406b-81b8-90cf05bda980",
   "metadata": {},
   "outputs": [
    {
     "data": {
      "text/plain": [
       "{'observation_id': '77061331-2d15-4fa0-b73c-1dbd95072041', 'prediction': 7}"
      ]
     },
     "execution_count": 64,
     "metadata": {},
     "output_type": "execute_result"
    }
   ],
   "source": [
    "response = r.json()\n",
    "response"
   ]
  },
  {
   "cell_type": "code",
   "execution_count": 10,
   "id": "9e77a29e-128f-4d7f-b8b6-45af4750bd64",
   "metadata": {},
   "outputs": [],
   "source": [
    "bad_payloads = [{\"observation_id\": str(uuid4()),\n",
    "                \"Health Service Area\": \"Western NY\", \n",
    "                \"Hospital County\": \"Erie\",\n",
    "                \"Operating Certificate Number\": \"1401014.0\",\n",
    "                \"Facility Id\": \"207.0\",\n",
    "                \"Facility Name\": \"Buffalo General Hospital\",\n",
    "                \"Age Group\": \"30 to 49\",\n",
    "                \"Zip Code - 3 digits\": \"147\",\n",
    "                \"Gender\": \"F\",\n",
    "                \"Race\": \"White\",\n",
    "                \"Ethnicity\": \"Not Span/Hispanic\",\n",
    "                \"Type of Admission\": \"Emergency\",\n",
    "                \"CCS Diagnosis Code\": \"157\",\n",
    "                \"CCS Diagnosis Description\": \"Acute and unspecified renal failure\",\n",
    "                \"CCS Procedure Code\": \"0\",\n",
    "                \"CCS Procedure Description\": \"NO PROC\",\n",
    "                \"APR DRG Code\": \"460\",\n",
    "                \"APR DRG Description\": \"RENAL FAILURE\",\n",
    "                \"APR MDC Code\": \"11\",\n",
    "                \"APR MDC Description\": \"Diseases and Disorders of the Kidney and Urinary Tract\",\n",
    "                \"APR Severity of Illness Code\": \"3\",\n",
    "                \"APR Severity of Illness Description\": \"Major\",\n",
    "                \"APR Risk of Mortality\": \"Major\",\n",
    "                \"APR Medical Surgical Description\": \"Medical\",\n",
    "                \"Payment Typology 1\": \"Medicaid\",\n",
    "                \"Payment Typology 2\": \"Self-Pay\",\n",
    "                \"Payment Typology 3\": \"nan\",\n",
    "                \"Attending Provider License Number\": \"237483.0\",\n",
    "                \"Operating Provider License Number\": \"nan\",\n",
    "                \"Other Provider License Number\": \"nan\",\n",
    "                \"Birth Weight\": \"0\",\n",
    "                \"Abortion Edit Indicator\": \"strange\",\n",
    "                \"Emergency Department Indicator\": \"Y\"},\n",
    "                {\"observation_id\": str(uuid4()),\n",
    "                \"Health Service Area\": \"Western NY\", \n",
    "                \"Hospital Country\": \"Erie\",\n",
    "                \"Operating Certificate Number\": \"1401014.0\",\n",
    "                \"Facility Id\": \"207.0\",\n",
    "                \"Facility Name\": \"Buffalo General Hospital\",\n",
    "                \"Age Group\": \"30 to 49\",\n",
    "                \"Zip Code - 3 digits\": \"147\",\n",
    "                \"Gender\": \"F\",\n",
    "                \"Race\": \"White\",\n",
    "                \"Ethnicity\": \"Not Span/Hispanic\",\n",
    "                \"Type of Admission\": \"Emergency\",\n",
    "                \"CCS Diagnosis Code\": \"157\",\n",
    "                \"CCS Diagnosis Description\": \"Acute and unspecified renal failure\",\n",
    "                \"CCS Procedure Code\": \"0\",\n",
    "                \"CCS Procedure Description\": \"NO PROC\",\n",
    "                \"APR DRG Code\": \"460\",\n",
    "                \"APR DRG Description\": \"RENAL FAILURE\",\n",
    "                \"APR MDC Code\": \"11\",\n",
    "                \"APR MDC Description\": \"Diseases and Disorders of the Kidney and Urinary Tract\",\n",
    "                \"APR Severity of Illness Code\": \"3\",\n",
    "                \"APR Severity of Illness Description\": \"Major\",\n",
    "                \"APR Risk of Mortality\": \"Major\",\n",
    "                \"APR Medical Surgical Description\": \"Medical\",\n",
    "                \"Payment Typology 1\": \"Medicaid\",\n",
    "                \"Payment Typology 2\": \"Self-Pay\",\n",
    "                \"Payment Typology 3\": \"nan\",\n",
    "                \"Attending Provider License Number\": \"237483.0\",\n",
    "                \"Operating Provider License Number\": \"nan\",\n",
    "                \"Other Provider License Number\": \"nan\",\n",
    "                \"Birth Weight\": \"0\",\n",
    "                \"Abortion Edit Indicator\": \"N\",\n",
    "                \"Emergency Department Indicator\": \"Y\"},\n",
    "                {\"observation_id\": str(uuid4()),\n",
    "                \"Health Service Area\": \"Western NY\", \n",
    "                \"Hospital County\": \"Erie\",\n",
    "                \"Operating Certificate Number\": \"1401014.0\",\n",
    "                \"Facility Id\": \"207.0\",\n",
    "                \"Facility Name\": \"Buffalo General Hospital\",\n",
    "                \"Age Group\": \"30 to 49\",\n",
    "                \"Zip Code - 3 digits\": \"147\",\n",
    "                \"Gender\": \"F\",\n",
    "                \"Race\": \"White\",\n",
    "                \"Ethnicity\": \"Not Span/Hispanic\",\n",
    "                \"Type of Admission\": \"Daah\",\n",
    "                \"CCS Diagnosis Code\": \"157\",\n",
    "                \"CCS Diagnosis Description\": \"Acute and unspecified renal failure\",\n",
    "                \"CCS Procedure Code\": \"0\",\n",
    "                \"CCS Procedure Description\": \"NO PROC\",\n",
    "                \"APR DRG Code\": \"460\",\n",
    "                \"APR DRG Description\": \"RENAL FAILURE\",\n",
    "                \"APR MDC Code\": \"11\",\n",
    "                \"APR MDC Description\": \"Diseases and Disorders of the Kidney and Urinary Tract\",\n",
    "                \"APR Severity of Illness Code\": \"3\",\n",
    "                \"APR Severity of Illness Description\": \"Major\",\n",
    "                \"APR Risk of Mortality\": \"Major\",\n",
    "                \"APR Medical Surgical Description\": \"Medical\",\n",
    "                \"Payment Typology 1\": \"Medicaid\",\n",
    "                \"Payment Typology 2\": \"Self-Pay\",\n",
    "                \"Payment Typology 3\": \"nan\",\n",
    "                \"Attending Provider License Number\": \"237483.0\",\n",
    "                \"Operating Provider License Number\": \"nan\",\n",
    "                \"Other Provider License Number\": \"nan\",\n",
    "                \"Birth Weight\": \"0\",\n",
    "                \"Abortion Edit Indicator\": \"N\",\n",
    "                \"Emergency Department Indicator\": \"Y\"},\n",
    "                {\"observation_id\": str(uuid4()),\n",
    "                \"Health Service Area\": \"Western NY\", \n",
    "                \"Hospital County\": \"Erie\",\n",
    "                \"Operating Certificate Number\": \"1401014.0\",\n",
    "                \"Facility Id\": \"207.0\",\n",
    "                \"Facility Name\": \"Buffalo General Hospital\",\n",
    "                \"Facility Nickname\": \"hey there\",\n",
    "                \"Age Group\": \"30 to 49\",\n",
    "                \"Zip Code - 3 digits\": \"147\",\n",
    "                \"Gender\": \"F\",\n",
    "                \"Race\": \"White\",\n",
    "                \"Ethnicity\": \"Not Span/Hispanic\",\n",
    "                \"Type of Admission\": \"Emergency\",\n",
    "                \"CCS Diagnosis Code\": \"157\",\n",
    "                \"CCS Diagnosis Description\": \"Acute and unspecified renal failure\",\n",
    "                \"CCS Procedure Code\": \"0\",\n",
    "                \"CCS Procedure Description\": \"NO PROC\",\n",
    "                \"APR DRG Code\": \"460\",\n",
    "                \"APR DRG Description\": \"RENAL FAILURE\",\n",
    "                \"APR MDC Code\": \"11\",\n",
    "                \"APR MDC Description\": \"Diseases and Disorders of the Kidney and Urinary Tract\",\n",
    "                \"APR Severity of Illness Code\": \"3\",\n",
    "                \"APR Severity of Illness Description\": \"Major\",\n",
    "                \"APR Risk of Mortality\": \"Major\",\n",
    "                \"APR Medical Surgical Description\": \"Medical\",\n",
    "                \"Payment Typology 1\": \"Medicaid\",\n",
    "                \"Payment Typology 2\": \"Self-Pay\",\n",
    "                \"Payment Typology 3\": \"nan\",\n",
    "                \"Attending Provider License Number\": \"237483.0\",\n",
    "                \"Operating Provider License Number\": \"nan\",\n",
    "                \"Other Provider License Number\": \"nan\",\n",
    "                \"Birth Weight\": \"0\",\n",
    "                \"Abortion Edit Indicator\": \"N\",\n",
    "                \"Emergency Department Indicator\": \"Y\"}]"
   ]
  },
  {
   "cell_type": "code",
   "execution_count": 43,
   "id": "35e538af-d323-49b2-9f6c-38af0c9e0292",
   "metadata": {},
   "outputs": [
    {
     "name": "stdout",
     "output_type": "stream",
     "text": [
      "{'error': \"Invalid value provided for Abortion Edit Indicator: strange. Allowed values are: 'Y','N'\", 'observation_id': '3f57af77-52e3-4b3f-9b57-4b62cadcff11'}\n",
      "{'error': 'Hospital Country is not a valid feature.', 'observation_id': '9949bf3f-e88d-4e77-b13d-b4fb9e86c894'}\n",
      "{'error': \"Invalid value provided for Type of Admission: Daah. Allowed values are: 'Emergency','Elective','Urgent','Newborn','Not Available','Trauma'\", 'observation_id': '10c1dadb-6274-4f7a-86e4-16aa115abf23'}\n",
      "{'error': 'Facility Nickname is not a valid feature.', 'observation_id': '605799f8-0cbd-42e2-8844-c30de5fbf4ba'}\n"
     ]
    }
   ],
   "source": [
    "for payload in bad_payloads:\n",
    "    r = requests.post(url, json=payload)\n",
    "    response = r.json()\n",
    "    print(response)"
   ]
  },
  {
   "cell_type": "markdown",
   "id": "6ede4837-7b89-4316-a5c5-3725372856a2",
   "metadata": {},
   "source": [
    "## 1.2 Update Endpoint"
   ]
  },
  {
   "cell_type": "code",
   "execution_count": 50,
   "id": "9c81cfcf-01a3-466c-a853-c3e0df5440f4",
   "metadata": {},
   "outputs": [],
   "source": [
    "url_update = \"http://localhost:5000/update\""
   ]
  },
  {
   "cell_type": "code",
   "execution_count": 49,
   "id": "8550e7f9-6853-4447-93a4-f2975d15c4ac",
   "metadata": {},
   "outputs": [],
   "source": [
    "gup = {\"observation_id\": \"fd3f9217-9f93-47f5-9375-dd2386e92e5f\", \"true_value\": \"4\"}"
   ]
  },
  {
   "cell_type": "code",
   "execution_count": 53,
   "id": "4a1fc54b-13f2-4cac-a1ad-e34cf7ac050a",
   "metadata": {},
   "outputs": [
    {
     "data": {
      "text/plain": [
       "{'observation_id': 'fd3f9217-9f93-47f5-9375-dd2386e92e5f', 'true_value': '4'}"
      ]
     },
     "execution_count": 53,
     "metadata": {},
     "output_type": "execute_result"
    }
   ],
   "source": [
    "r = requests.post(url_update, json=gup)\n",
    "response = r.json()\n",
    "response"
   ]
  },
  {
   "cell_type": "code",
   "execution_count": 54,
   "id": "aa7544f6-aeb3-4afe-8ec7-4fb990f8b173",
   "metadata": {},
   "outputs": [],
   "source": [
    "bup = {\"observation_id\": \"not-there\", \"true_value\": \"4\"}"
   ]
  },
  {
   "cell_type": "code",
   "execution_count": 55,
   "id": "42c4cac7-6095-4d95-86b6-e284b8228133",
   "metadata": {},
   "outputs": [
    {
     "data": {
      "text/plain": [
       "{'error': 'Observation ID not-there does not exists.',\n",
       " 'observation_id': 'not-there'}"
      ]
     },
     "execution_count": 55,
     "metadata": {},
     "output_type": "execute_result"
    }
   ],
   "source": [
    "r = requests.post(url_update, json=bup)\n",
    "response = r.json()\n",
    "response"
   ]
  },
  {
   "cell_type": "markdown",
   "id": "b14a422d-c32a-416d-879b-3b4d9ea402d5",
   "metadata": {},
   "source": [
    "# 2. Test in production"
   ]
  },
  {
   "cell_type": "markdown",
   "id": "d25cff25-ce39-4f01-9782-bc8d4fb82c9a",
   "metadata": {},
   "source": [
    "## 2.1 Predict endpoint"
   ]
  },
  {
   "cell_type": "code",
   "execution_count": 6,
   "id": "d7fcc115-a5dc-4f14-b13e-2367d0cf7c27",
   "metadata": {},
   "outputs": [],
   "source": [
    "domain = \"ldssa-hck6-group4-production.up.railway.app\""
   ]
  },
  {
   "cell_type": "code",
   "execution_count": 7,
   "id": "47facf7e-e759-46da-915a-cbfb783da5ec",
   "metadata": {},
   "outputs": [],
   "source": [
    "url = f\"https://{domain}/predict\""
   ]
  },
  {
   "cell_type": "code",
   "execution_count": 8,
   "id": "a155d3a7-f4d9-4b9c-bf61-fb2558bc91b5",
   "metadata": {},
   "outputs": [],
   "source": [
    "r = requests.post(url, json=good_payload)"
   ]
  },
  {
   "cell_type": "code",
   "execution_count": 9,
   "id": "1ee1407b-ba13-4cd0-91d1-1f372dd21994",
   "metadata": {},
   "outputs": [
    {
     "data": {
      "text/plain": [
       "{'observation_id': 'a61d6604-4bc0-4ebc-8164-f3b35dd7cf87', 'prediction': 4}"
      ]
     },
     "execution_count": 9,
     "metadata": {},
     "output_type": "execute_result"
    }
   ],
   "source": [
    "response = r.json()\n",
    "response"
   ]
  },
  {
   "cell_type": "code",
   "execution_count": 11,
   "id": "dc43131b-5760-4076-add0-b6c1b7927636",
   "metadata": {},
   "outputs": [
    {
     "name": "stdout",
     "output_type": "stream",
     "text": [
      "{'error': \"Invalid value provided for Abortion Edit Indicator: strange. Allowed values are: 'Y','N'\", 'observation_id': '01135ae4-f943-4e82-b5e4-67775f69581a'}\n",
      "{'error': 'Hospital Country is not a valid feature.', 'observation_id': '25bbffbb-6c8e-4d14-b347-fc1cce9863d3'}\n",
      "{'error': \"Invalid value provided for Type of Admission: Daah. Allowed values are: 'Emergency','Elective','Urgent','Newborn','Not Available','Trauma'\", 'observation_id': 'e2d73a14-13c8-4d7c-8e6c-32ed42ecc41d'}\n",
      "{'error': 'Facility Nickname is not a valid feature.', 'observation_id': 'da63e92c-2864-46c1-b825-fe537806de20'}\n"
     ]
    }
   ],
   "source": [
    "for payload in bad_payloads:\n",
    "    r = requests.post(url, json=payload)\n",
    "    response = r.json()\n",
    "    print(response)"
   ]
  },
  {
   "cell_type": "markdown",
   "id": "c0902d65-7796-492e-9501-fcdb8acb65de",
   "metadata": {},
   "source": [
    "## 2.2 Update endpoint"
   ]
  },
  {
   "cell_type": "code",
   "execution_count": 13,
   "id": "6b495cff-1230-44f1-8a0a-c58736b56b97",
   "metadata": {},
   "outputs": [],
   "source": [
    "url_update = f\"https://{domain}/update\""
   ]
  },
  {
   "cell_type": "code",
   "execution_count": 14,
   "id": "131300a5-dd72-42db-a926-6a4e76fda01a",
   "metadata": {},
   "outputs": [],
   "source": [
    "gup = {\"observation_id\": \"fd3f9217-9f93-47f5-9375-dd2386e92e5f\", \"true_value\": \"4\"}"
   ]
  },
  {
   "cell_type": "code",
   "execution_count": 15,
   "id": "e080dd02-317a-4097-9d96-81005f1eae46",
   "metadata": {},
   "outputs": [
    {
     "data": {
      "text/plain": [
       "{'observation_id': 'fd3f9217-9f93-47f5-9375-dd2386e92e5f', 'true_value': '4'}"
      ]
     },
     "execution_count": 15,
     "metadata": {},
     "output_type": "execute_result"
    }
   ],
   "source": [
    "r = requests.post(url_update, json=gup)\n",
    "response = r.json()\n",
    "response"
   ]
  },
  {
   "cell_type": "code",
   "execution_count": null,
   "id": "326c7d5b-a4cd-4f95-bc8f-53765159b54a",
   "metadata": {},
   "outputs": [],
   "source": []
  }
 ],
 "metadata": {
  "kernelspec": {
   "display_name": "Python 3 (ipykernel)",
   "language": "python",
   "name": "python3"
  },
  "language_info": {
   "codemirror_mode": {
    "name": "ipython",
    "version": 3
   },
   "file_extension": ".py",
   "mimetype": "text/x-python",
   "name": "python",
   "nbconvert_exporter": "python",
   "pygments_lexer": "ipython3",
   "version": "3.10.14"
  }
 },
 "nbformat": 4,
 "nbformat_minor": 5
}
